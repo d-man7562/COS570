{
  "nbformat": 4,
  "nbformat_minor": 0,
  "metadata": {
    "colab": {
      "provenance": []
    },
    "kernelspec": {
      "name": "python3",
      "display_name": "Python 3"
    },
    "language_info": {
      "name": "python"
    }
  },
  "cells": [
    {
      "cell_type": "code",
      "execution_count": null,
      "metadata": {
        "id": "ofS79k8LOW4K"
      },
      "outputs": [],
      "source": [
        "from re import I\n",
        "def xor(list):\n",
        "  sum=0\n",
        "  for i in list:\n",
        "    sum^=i\n",
        "  return sum\n",
        "\n",
        "def mex(list):\n",
        "  num =0\n",
        "  while num in list:\n",
        "    num+=1\n",
        "  return num\n",
        "\n",
        "\n",
        "\n",
        "\n",
        "def define_rules_truncated(integer):\n",
        "  if integer >= 8:\n",
        "    raise ValueError(\"integer must be less than 8\")\n",
        "  num = integer\n",
        "  list = []\n",
        "  while num >= 4:\n",
        "    num -=4\n",
        "    list.append(4)\n",
        "    break\n",
        "  while num >= 2:\n",
        "    num -=2\n",
        "    list.append(2)\n",
        "    break\n",
        "  while num == 1:\n",
        "    list.append(1)\n",
        "    break\n",
        "  list.sort()\n",
        "  return list"
      ]
    },
    {
      "cell_type": "code",
      "source": [],
      "metadata": {
        "id": "lLH8UkLti5rr"
      },
      "execution_count": null,
      "outputs": []
    },
    {
      "cell_type": "code",
      "source": [
        "#xor([3,3])\n",
        "define_rules_truncated(7)\n"
      ],
      "metadata": {
        "colab": {
          "base_uri": "https://localhost:8080/"
        },
        "id": "04wHAuBYObUV",
        "outputId": "32762e48-ede6-4fbb-e0cb-5f8c6ff8761b"
      },
      "execution_count": null,
      "outputs": [
        {
          "output_type": "execute_result",
          "data": {
            "text/plain": [
              "[1, 2, 4]"
            ]
          },
          "metadata": {},
          "execution_count": 22
        }
      ]
    },
    {
      "cell_type": "code",
      "source": [
        "import math\n",
        "\n",
        "def grundy_value_from_code(octal_code, n, grundy_dict={}):\n",
        "    if n == 0:\n",
        "        return 0\n",
        "    #extract leading zero and decimal from octal string\n",
        "    #we will save this in a list with index 0\n",
        "    if n in grundy_dict:\n",
        "      return grundy_dict[n]\n",
        "    game_rules = []\n",
        "    game_rules = [int(i) for i in octal_code[2:]]\n",
        "\n",
        "\n",
        "    key_list = []\n",
        "    temp_list = []\n",
        "    #has value pairs, so it is a list of lists\n",
        "    options_dict = {}\n",
        "    for i in range(len(game_rules)):\n",
        "      key_list.append(i)\n",
        "      temp_list.append(define_rules_truncated(game_rules[i]))\n",
        "      options_dict[i+1]   = temp_list[i]\n",
        "    print(options_dict)\n",
        "#Now we have a dictionary beginning at index one, and it works as I intended\n",
        "  #  print(\"dictionary of options for each pile size\",options_dict)\n",
        "    num = n\n",
        "    options_list_to_calculate_mex_from = []\n",
        "    #if we do not use num+1, it wont try taking the entire pile. need the extra cycle.\n",
        "    for level in range(1,num+1):\n",
        "      if level not in options_dict:\n",
        "        continue\n",
        "      for j in options_dict[level]:\n",
        "          integer = num\n",
        "\n",
        "          if j == 4 and integer-level> 1:\n",
        "            integer -=level\n",
        "            for a in range((integer//2) + 1):\n",
        "              b = integer-a\n",
        "              if a==0 or b==0:\n",
        "                continue\n",
        "              options_list_to_calculate_mex_from.append(a^b)\n",
        "          elif j == 2 and integer-level>0:\n",
        "              integer -= level\n",
        "              options_list_to_calculate_mex_from.append(integer)\n",
        "          elif j == 1 and integer-level==0:\n",
        "                options_list_to_calculate_mex_from.append(0)\n",
        "          print(options_list_to_calculate_mex_from)\n",
        "          #if i didnt mess anything up, this should be complete. all we need to do is mex the options list\n",
        "   # print(\"options list before mex\",options_list_to_calculate_mex_from)\n",
        "    overall_mex_grundy_value =  mex(options_list_to_calculate_mex_from)\n",
        "    #return f\"ANSWER: G({n}) = \"+ str(overall_mex_grundy_value)\n",
        "    return overall_mex_grundy_value\n",
        "\n"
      ],
      "metadata": {
        "id": "qEFSpoguOcAd"
      },
      "execution_count": null,
      "outputs": []
    },
    {
      "cell_type": "code",
      "source": [],
      "metadata": {
        "id": "M--99acWN-BY"
      },
      "execution_count": null,
      "outputs": []
    },
    {
      "cell_type": "code",
      "source": [],
      "metadata": {
        "id": "Si_uan8WN-OG"
      },
      "execution_count": null,
      "outputs": []
    },
    {
      "cell_type": "code",
      "source": [
        "for i in range(109):\n",
        "\n",
        "  print(grundy_value_from_code(\"0.770\",i,{}), end =\" | \")\n",
        "  if i%12 ==0:\n",
        "    print()"
      ],
      "metadata": {
        "colab": {
          "base_uri": "https://localhost:8080/"
        },
        "id": "ZboeEjIeOcSX",
        "outputId": "22e89c70-e08a-4a2f-c364-b8de0149e067"
      },
      "execution_count": null,
      "outputs": [
        {
          "output_type": "stream",
          "name": "stdout",
          "text": [
            "0 | \n",
            "{0: [1, 2, 4], 1: [1, 2, 4], 2: []}\n",
            "1 | {0: [1, 2, 4], 1: [1, 2, 4], 2: []}\n",
            "2 | {0: [1, 2, 4], 1: [1, 2, 4], 2: []}\n",
            "1 | {0: [1, 2, 4], 1: [1, 2, 4], 2: []}\n",
            "1 | {0: [1, 2, 4], 1: [1, 2, 4], 2: []}\n",
            "1 | {0: [1, 2, 4], 1: [1, 2, 4], 2: []}\n",
            "2 | {0: [1, 2, 4], 1: [1, 2, 4], 2: []}\n",
            "1 | {0: [1, 2, 4], 1: [1, 2, 4], 2: []}\n",
            "1 | {0: [1, 2, 4], 1: [1, 2, 4], 2: []}\n",
            "1 | {0: [1, 2, 4], 1: [1, 2, 4], 2: []}\n",
            "2 | {0: [1, 2, 4], 1: [1, 2, 4], 2: []}\n",
            "1 | {0: [1, 2, 4], 1: [1, 2, 4], 2: []}\n",
            "1 | \n",
            "{0: [1, 2, 4], 1: [1, 2, 4], 2: []}\n",
            "1 | {0: [1, 2, 4], 1: [1, 2, 4], 2: []}\n",
            "2 | {0: [1, 2, 4], 1: [1, 2, 4], 2: []}\n",
            "1 | {0: [1, 2, 4], 1: [1, 2, 4], 2: []}\n",
            "1 | {0: [1, 2, 4], 1: [1, 2, 4], 2: []}\n",
            "1 | {0: [1, 2, 4], 1: [1, 2, 4], 2: []}\n",
            "2 | {0: [1, 2, 4], 1: [1, 2, 4], 2: []}\n",
            "1 | {0: [1, 2, 4], 1: [1, 2, 4], 2: []}\n",
            "1 | {0: [1, 2, 4], 1: [1, 2, 4], 2: []}\n",
            "1 | {0: [1, 2, 4], 1: [1, 2, 4], 2: []}\n",
            "2 | {0: [1, 2, 4], 1: [1, 2, 4], 2: []}\n",
            "1 | {0: [1, 2, 4], 1: [1, 2, 4], 2: []}\n",
            "1 | \n",
            "{0: [1, 2, 4], 1: [1, 2, 4], 2: []}\n",
            "1 | {0: [1, 2, 4], 1: [1, 2, 4], 2: []}\n",
            "2 | {0: [1, 2, 4], 1: [1, 2, 4], 2: []}\n",
            "1 | {0: [1, 2, 4], 1: [1, 2, 4], 2: []}\n",
            "1 | {0: [1, 2, 4], 1: [1, 2, 4], 2: []}\n",
            "1 | {0: [1, 2, 4], 1: [1, 2, 4], 2: []}\n",
            "2 | {0: [1, 2, 4], 1: [1, 2, 4], 2: []}\n",
            "1 | {0: [1, 2, 4], 1: [1, 2, 4], 2: []}\n",
            "1 | {0: [1, 2, 4], 1: [1, 2, 4], 2: []}\n",
            "1 | {0: [1, 2, 4], 1: [1, 2, 4], 2: []}\n",
            "2 | {0: [1, 2, 4], 1: [1, 2, 4], 2: []}\n",
            "1 | {0: [1, 2, 4], 1: [1, 2, 4], 2: []}\n",
            "1 | \n",
            "{0: [1, 2, 4], 1: [1, 2, 4], 2: []}\n",
            "1 | {0: [1, 2, 4], 1: [1, 2, 4], 2: []}\n",
            "2 | {0: [1, 2, 4], 1: [1, 2, 4], 2: []}\n",
            "1 | {0: [1, 2, 4], 1: [1, 2, 4], 2: []}\n",
            "1 | {0: [1, 2, 4], 1: [1, 2, 4], 2: []}\n",
            "1 | {0: [1, 2, 4], 1: [1, 2, 4], 2: []}\n",
            "2 | {0: [1, 2, 4], 1: [1, 2, 4], 2: []}\n",
            "1 | {0: [1, 2, 4], 1: [1, 2, 4], 2: []}\n",
            "1 | {0: [1, 2, 4], 1: [1, 2, 4], 2: []}\n",
            "1 | {0: [1, 2, 4], 1: [1, 2, 4], 2: []}\n",
            "2 | {0: [1, 2, 4], 1: [1, 2, 4], 2: []}\n",
            "1 | {0: [1, 2, 4], 1: [1, 2, 4], 2: []}\n",
            "1 | \n",
            "{0: [1, 2, 4], 1: [1, 2, 4], 2: []}\n",
            "1 | {0: [1, 2, 4], 1: [1, 2, 4], 2: []}\n",
            "2 | {0: [1, 2, 4], 1: [1, 2, 4], 2: []}\n",
            "1 | {0: [1, 2, 4], 1: [1, 2, 4], 2: []}\n",
            "1 | {0: [1, 2, 4], 1: [1, 2, 4], 2: []}\n",
            "1 | {0: [1, 2, 4], 1: [1, 2, 4], 2: []}\n",
            "2 | {0: [1, 2, 4], 1: [1, 2, 4], 2: []}\n",
            "1 | {0: [1, 2, 4], 1: [1, 2, 4], 2: []}\n",
            "1 | {0: [1, 2, 4], 1: [1, 2, 4], 2: []}\n",
            "1 | {0: [1, 2, 4], 1: [1, 2, 4], 2: []}\n",
            "2 | {0: [1, 2, 4], 1: [1, 2, 4], 2: []}\n",
            "1 | {0: [1, 2, 4], 1: [1, 2, 4], 2: []}\n",
            "1 | \n",
            "{0: [1, 2, 4], 1: [1, 2, 4], 2: []}\n",
            "1 | {0: [1, 2, 4], 1: [1, 2, 4], 2: []}\n",
            "2 | {0: [1, 2, 4], 1: [1, 2, 4], 2: []}\n",
            "1 | {0: [1, 2, 4], 1: [1, 2, 4], 2: []}\n",
            "1 | {0: [1, 2, 4], 1: [1, 2, 4], 2: []}\n",
            "1 | {0: [1, 2, 4], 1: [1, 2, 4], 2: []}\n",
            "2 | {0: [1, 2, 4], 1: [1, 2, 4], 2: []}\n",
            "1 | {0: [1, 2, 4], 1: [1, 2, 4], 2: []}\n",
            "1 | {0: [1, 2, 4], 1: [1, 2, 4], 2: []}\n",
            "1 | {0: [1, 2, 4], 1: [1, 2, 4], 2: []}\n",
            "2 | {0: [1, 2, 4], 1: [1, 2, 4], 2: []}\n",
            "1 | {0: [1, 2, 4], 1: [1, 2, 4], 2: []}\n",
            "1 | \n",
            "{0: [1, 2, 4], 1: [1, 2, 4], 2: []}\n",
            "1 | {0: [1, 2, 4], 1: [1, 2, 4], 2: []}\n",
            "2 | {0: [1, 2, 4], 1: [1, 2, 4], 2: []}\n",
            "1 | {0: [1, 2, 4], 1: [1, 2, 4], 2: []}\n",
            "1 | {0: [1, 2, 4], 1: [1, 2, 4], 2: []}\n",
            "1 | {0: [1, 2, 4], 1: [1, 2, 4], 2: []}\n",
            "2 | {0: [1, 2, 4], 1: [1, 2, 4], 2: []}\n",
            "1 | {0: [1, 2, 4], 1: [1, 2, 4], 2: []}\n",
            "1 | {0: [1, 2, 4], 1: [1, 2, 4], 2: []}\n",
            "1 | {0: [1, 2, 4], 1: [1, 2, 4], 2: []}\n",
            "2 | {0: [1, 2, 4], 1: [1, 2, 4], 2: []}\n",
            "1 | {0: [1, 2, 4], 1: [1, 2, 4], 2: []}\n",
            "1 | \n",
            "{0: [1, 2, 4], 1: [1, 2, 4], 2: []}\n",
            "1 | {0: [1, 2, 4], 1: [1, 2, 4], 2: []}\n",
            "2 | {0: [1, 2, 4], 1: [1, 2, 4], 2: []}\n",
            "1 | {0: [1, 2, 4], 1: [1, 2, 4], 2: []}\n",
            "1 | {0: [1, 2, 4], 1: [1, 2, 4], 2: []}\n",
            "1 | {0: [1, 2, 4], 1: [1, 2, 4], 2: []}\n",
            "2 | {0: [1, 2, 4], 1: [1, 2, 4], 2: []}\n",
            "1 | {0: [1, 2, 4], 1: [1, 2, 4], 2: []}\n",
            "1 | {0: [1, 2, 4], 1: [1, 2, 4], 2: []}\n",
            "1 | {0: [1, 2, 4], 1: [1, 2, 4], 2: []}\n",
            "2 | {0: [1, 2, 4], 1: [1, 2, 4], 2: []}\n",
            "1 | {0: [1, 2, 4], 1: [1, 2, 4], 2: []}\n",
            "1 | \n",
            "{0: [1, 2, 4], 1: [1, 2, 4], 2: []}\n",
            "1 | {0: [1, 2, 4], 1: [1, 2, 4], 2: []}\n",
            "2 | {0: [1, 2, 4], 1: [1, 2, 4], 2: []}\n",
            "1 | {0: [1, 2, 4], 1: [1, 2, 4], 2: []}\n",
            "1 | {0: [1, 2, 4], 1: [1, 2, 4], 2: []}\n",
            "1 | {0: [1, 2, 4], 1: [1, 2, 4], 2: []}\n",
            "2 | {0: [1, 2, 4], 1: [1, 2, 4], 2: []}\n",
            "1 | {0: [1, 2, 4], 1: [1, 2, 4], 2: []}\n",
            "1 | {0: [1, 2, 4], 1: [1, 2, 4], 2: []}\n",
            "1 | {0: [1, 2, 4], 1: [1, 2, 4], 2: []}\n",
            "2 | {0: [1, 2, 4], 1: [1, 2, 4], 2: []}\n",
            "1 | {0: [1, 2, 4], 1: [1, 2, 4], 2: []}\n",
            "1 | \n"
          ]
        }
      ]
    },
    {
      "cell_type": "code",
      "source": [
        "grundy_value_from_code(\"0.77\",5,{})"
      ],
      "metadata": {
        "id": "_6VzdSWvBWTo",
        "colab": {
          "base_uri": "https://localhost:8080/"
        },
        "outputId": "c3443c3b-187a-417c-ee16-ca28fe201a4f"
      },
      "execution_count": null,
      "outputs": [
        {
          "output_type": "stream",
          "name": "stdout",
          "text": [
            "{1: [1, 2, 4], 2: [1, 2, 4]}\n",
            "[]\n",
            "[4]\n",
            "[4, 2, 0]\n",
            "[4, 2, 0]\n",
            "[4, 2, 0, 3]\n",
            "[4, 2, 0, 3, 3]\n"
          ]
        },
        {
          "output_type": "execute_result",
          "data": {
            "text/plain": [
              "1"
            ]
          },
          "metadata": {},
          "execution_count": 128
        }
      ]
    },
    {
      "cell_type": "markdown",
      "source": [
        "# New Section"
      ],
      "metadata": {
        "id": "rAd5-SnZFreO"
      }
    },
    {
      "cell_type": "code",
      "source": [],
      "metadata": {
        "id": "xwcOATu0OcWO"
      },
      "execution_count": null,
      "outputs": []
    }
  ]
}